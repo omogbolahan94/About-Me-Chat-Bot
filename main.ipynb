{
 "cells": [
  {
   "cell_type": "code",
   "execution_count": 1,
   "id": "48efd7ca-4298-4999-bd40-7e51b8aaadc6",
   "metadata": {},
   "outputs": [],
   "source": [
    "from dotenv import load_dotenv\n",
    "from openai import OpenAI\n",
    "import json\n",
    "import os\n",
    "import requests\n",
    "from pypdf import PdfReader\n",
    "import gradio as gr"
   ]
  },
  {
   "cell_type": "code",
   "execution_count": 2,
   "id": "c0aa5a7b-1ad0-4a8b-8a0c-10897ad79e18",
   "metadata": {},
   "outputs": [
    {
     "data": {
      "text/plain": [
       "True"
      ]
     },
     "execution_count": 2,
     "metadata": {},
     "output_type": "execute_result"
    }
   ],
   "source": [
    "load_dotenv(override=True)"
   ]
  },
  {
   "cell_type": "code",
   "execution_count": 4,
   "id": "b3f219cd-76d2-45db-b441-3b8dfebff82e",
   "metadata": {},
   "outputs": [],
   "source": [
    "reader = PdfReader(\"data-source/linkedin.pdf\")\n",
    "linkedin = \"\"\n",
    "\n",
    "for page in reader.pages:\n",
    "    text = page.extract_text()\n",
    "    if text:\n",
    "        linkedin += text"
   ]
  },
  {
   "cell_type": "markdown",
   "id": "04189fb8-95e8-4d2b-aed6-56df4a0e76b3",
   "metadata": {},
   "source": [
    "#### Tokens and Push Notification function"
   ]
  },
  {
   "cell_type": "code",
   "execution_count": 7,
   "id": "3d71c64f-2c25-4004-acf9-f896204db0fa",
   "metadata": {},
   "outputs": [],
   "source": [
    "# Setup APIs\n",
    "google_api_key = os.getenv('GOOGLE_API_KEY')\n",
    "google_gai_url=\"https://generativelanguage.googleapis.com/v1beta/openai/\"\n",
    "\n",
    "pushover_user = os.getenv(\"PUSHOVER_USER\")\n",
    "pushover_token = os.getenv(\"PUSHOVER_TOKEN\")\n",
    "pushover_url = \"https://api.pushover.net/1/messages.json\""
   ]
  },
  {
   "cell_type": "code",
   "execution_count": 9,
   "id": "29904dd9-72ef-4d0c-b195-d19432c1a5cd",
   "metadata": {},
   "outputs": [],
   "source": [
    "def push(message):\n",
    "    \"\"\"\n",
    "    Sends a push notification using the Pushover API.\n",
    "\n",
    "    This function constructs a payload with a given message, a user key,\n",
    "    and an application token, then sends it as a POST request to the\n",
    "    Pushover API endpoint. It prints a success message if the notification\n",
    "    is sent successfully (HTTP status code 200), otherwise it prints\n",
    "    an error message including the status code and response text.\n",
    "\n",
    "    Args:\n",
    "        message (str): The content of the notification message to be sent.\n",
    "\n",
    "    Returns:\n",
    "        None\n",
    "    \"\"\"\n",
    "    print(f\"Push: {message}\")\n",
    "    payload = {\"user\": pushover_user, \"token\": pushover_token, \"message\": message}\n",
    "    \n",
    "    response = requests.post(pushover_url, data=payload)\n",
    "    \n",
    "    if response.status_code == 200:\n",
    "        print(\"✅ Notification sent successfully.\")\n",
    "    else:\n",
    "        print(f\"❌ Failed to send notification: {response.status_code} - {response.text}\")"
   ]
  },
  {
   "cell_type": "markdown",
   "id": "add52abb-82e4-4ea1-8620-b34fc4391967",
   "metadata": {},
   "source": [
    "#### Agent and Setup\n",
    "\n",
    "Tool data storage and schema - structure of a tool response"
   ]
  },
  {
   "cell_type": "code",
   "execution_count": 10,
   "id": "c2e8a66b-dd11-40b1-bdf5-083fc71c22bb",
   "metadata": {},
   "outputs": [],
   "source": [
    "record_user_details_json = {\n",
    "    \"name\": \"record_user_details\",\n",
    "    \"description\": \"Use this tool to record that a user is interested in being in touch and provided an email address\",\n",
    "    \"parameters\": {\n",
    "        \"type\": \"object\",\n",
    "        \"properties\": {\n",
    "            \"email\": {\n",
    "                \"type\": \"string\",\n",
    "                \"description\": \"The email address of this user\"\n",
    "            },\n",
    "            \"name\": {\n",
    "                \"type\": \"string\",\n",
    "                \"description\": \"The user's name, if they provided it\"\n",
    "            }\n",
    "            ,\n",
    "            \"notes\": {\n",
    "                \"type\": \"string\",\n",
    "                \"description\": \"Any additional information about the conversation that's worth recording to give context\"\n",
    "            }\n",
    "        },\n",
    "        \"required\": [\"email\"],\n",
    "        \"additionalProperties\": False\n",
    "    }\n",
    "}"
   ]
  },
  {
   "cell_type": "code",
   "execution_count": 11,
   "id": "d3f4f0d5-feb1-44ac-8d08-54a47967f710",
   "metadata": {},
   "outputs": [],
   "source": [
    "record_unknown_question_json = {\n",
    "    \"name\": \"record_unknown_question\",\n",
    "    \"description\": \"Always use this tool to record any question that couldn't be answered as you didn't know the answer\",\n",
    "    \"parameters\": {\n",
    "        \"type\": \"object\",\n",
    "        \"properties\": {\n",
    "            \"question\": {\n",
    "                \"type\": \"string\",\n",
    "                \"description\": \"The question that couldn't be answered\"\n",
    "            },\n",
    "        },\n",
    "        \"required\": [\"question\"],\n",
    "        \"additionalProperties\": False\n",
    "    }\n",
    "}"
   ]
  },
  {
   "cell_type": "code",
   "execution_count": 16,
   "id": "f87f8ffa-4c78-4a93-a9f3-a9ff2be9c9fd",
   "metadata": {},
   "outputs": [],
   "source": [
    "# tool can be a class, function even a plug in. In this code, our tool is a function call\n",
    "tools = [{\"type\": \"function\", \"function\": record_user_details_json},\n",
    "        {\"type\": \"function\", \"function\": record_unknown_question_json}]"
   ]
  },
  {
   "cell_type": "markdown",
   "id": "61889471-68dc-4356-8d6a-a96e2e98d42d",
   "metadata": {},
   "source": [
    "Tool Functionalities"
   ]
  },
  {
   "cell_type": "code",
   "execution_count": 14,
   "id": "6301d43a-837a-4e33-a11c-d2168c89a998",
   "metadata": {},
   "outputs": [],
   "source": [
    "def record_user_details(email, name=\"Name not provided\", notes=\"not provided\"):\n",
    "    \"\"\"\n",
    "    Records user details and sends a push notification about the new entry.\n",
    "\n",
    "    This function takes a user's email, optional name, and optional notes.\n",
    "    It then sends a push notification (to my window chrome) summarizing\n",
    "    the recorded interest. It's intended to be used in conjunction with information or a structure\n",
    "    defined by `record_user_details_json`.\n",
    "\n",
    "    Args:\n",
    "        email (str): The email address of the user. This is a mandatory field.\n",
    "        name (str, optional): The name of the user. Defaults to \"Name not provided\".\n",
    "        notes (str, optional): Any additional notes or information about the user's interest.\n",
    "                               Defaults to \"not provided\".\n",
    "\n",
    "    Returns:\n",
    "        dict: A dictionary indicating the status of the recording.\n",
    "              Currently returns `{\"recorded\": \"ok\"}` regardless of actual storage.\n",
    "    \"\"\"\n",
    "    # use information of record_user_details_json\n",
    "    push(f\"Recording interest from {name} with email {email} and notes {notes}\")\n",
    "    return {\"recorded\": \"ok\"}"
   ]
  },
  {
   "cell_type": "code",
   "execution_count": 15,
   "id": "c755b27c-bf32-4c6c-b410-fdcadb489dfc",
   "metadata": {},
   "outputs": [],
   "source": [
    "def record_unknown_question(question):\n",
    "    \"\"\"\n",
    "    Records a user's question that the system was unable to answer and sends a push notification.\n",
    "\n",
    "    This function takes a question string, sends a push notification\n",
    "    to alert about the unanswerable question, and indicates that the question has been\n",
    "    \"recorded\". It is intended to integrate the structure from `record_unknown_question_json` \n",
    "    for storage and logging.\n",
    "\n",
    "    Args:\n",
    "        question (str): The specific question that the system could not answer.\n",
    "\n",
    "    Returns:\n",
    "        dict: A dictionary indicating the status of the recording.\n",
    "              Currently returns `{\"recorded\": \"ok\"}` regardless of actual storage.\n",
    "    \"\"\"\n",
    "    # use information of record_unknown_question_json\n",
    "    push(f\"Recording {question} asked that I couldn't answer\")\n",
    "    return {\"recorded\": \"ok\"}"
   ]
  },
  {
   "cell_type": "markdown",
   "id": "642cc97b-4d76-4fb5-b6ca-30f61fde9bf8",
   "metadata": {},
   "source": [
    "#### Tool call Functionalities"
   ]
  },
  {
   "cell_type": "code",
   "execution_count": 17,
   "id": "730468e5-2361-4d56-ac87-de9497f7fffd",
   "metadata": {},
   "outputs": [],
   "source": [
    "def handle_tool_calls(tool_calls):\n",
    "    \"\"\"\n",
    "    Processes a list of tool calls, executing the corresponding functions.\n",
    "\n",
    "    This function iterates through a list of `tool_call` objects, extracts the\n",
    "    tool's name and its arguments (assumed to be JSON strings), and then\n",
    "    dispatches to the appropriate helper function (e.g., `record_user_details`\n",
    "    or `record_unknown_question`). The results from these tool executions are\n",
    "    then collected and returned in a structured format suitable for further processing.\n",
    "\n",
    "    Assumes the existence of functions like `record_user_details` and\n",
    "    `record_unknown_question` in the current scope.\n",
    "\n",
    "    Args:\n",
    "        tool_calls (list): A list of tool call objects, where each object\n",
    "                           is expected to have a `function` attribute with\n",
    "                           `name` (str) and `arguments` (JSON string) attributes,\n",
    "                           and an `id` attribute.\n",
    "\n",
    "    Returns:\n",
    "        list: A list of dictionaries, where each dictionary represents the\n",
    "              result of a tool call. Each dictionary has the following keys:\n",
    "              - `role` (str): Set to \"tool\".\n",
    "              - `content` (str): The JSON-serialized result from the called tool function.\n",
    "              - `tool_call_id` (str): The ID of the original tool call.\n",
    "    \"\"\"\n",
    "    \n",
    "    results = []\n",
    "    for tool_call in tool_calls:\n",
    "        tool_name = tool_call.function.name\n",
    "        arguments = json.loads(tool_call.function.arguments)\n",
    "        print(f\"Tool called: {tool_name}\", flush=True)\n",
    "\n",
    "        # THE BIG IF STATEMENT!!!\n",
    "\n",
    "        if tool_name == \"record_user_details\":\n",
    "            result = record_user_details(**arguments)\n",
    "        elif tool_name == \"record_unknown_question\":\n",
    "            result = record_unknown_question(**arguments)\n",
    "\n",
    "        results.append({\"role\": \"tool\",\"content\": json.dumps(result),\"tool_call_id\": tool_call.id})\n",
    "    return results"
   ]
  },
  {
   "cell_type": "code",
   "execution_count": null,
   "id": "8d05311d-ea36-4bc9-836d-70678eb482c0",
   "metadata": {},
   "outputs": [],
   "source": []
  }
 ],
 "metadata": {
  "kernelspec": {
   "display_name": "Python (myenv)",
   "language": "python",
   "name": "myenv"
  },
  "language_info": {
   "codemirror_mode": {
    "name": "ipython",
    "version": 3
   },
   "file_extension": ".py",
   "mimetype": "text/x-python",
   "name": "python",
   "nbconvert_exporter": "python",
   "pygments_lexer": "ipython3",
   "version": "3.12.4"
  }
 },
 "nbformat": 4,
 "nbformat_minor": 5
}
