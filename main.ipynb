{
 "cells": [
  {
   "cell_type": "code",
   "execution_count": 1,
   "id": "48efd7ca-4298-4999-bd40-7e51b8aaadc6",
   "metadata": {},
   "outputs": [],
   "source": [
    "from dotenv import load_dotenv\n",
    "from openai import OpenAI\n",
    "import json\n",
    "import os\n",
    "import requests\n",
    "from pypdf import PdfReader\n",
    "import gradio as gr"
   ]
  },
  {
   "cell_type": "code",
   "execution_count": 2,
   "id": "c0aa5a7b-1ad0-4a8b-8a0c-10897ad79e18",
   "metadata": {},
   "outputs": [
    {
     "data": {
      "text/plain": [
       "True"
      ]
     },
     "execution_count": 2,
     "metadata": {},
     "output_type": "execute_result"
    }
   ],
   "source": [
    "load_dotenv(override=True)"
   ]
  },
  {
   "cell_type": "code",
   "execution_count": 4,
   "id": "b3f219cd-76d2-45db-b441-3b8dfebff82e",
   "metadata": {},
   "outputs": [],
   "source": [
    "reader = PdfReader(\"data-source/linkedin.pdf\")\n",
    "linkedin = \"\"\n",
    "\n",
    "for page in reader.pages:\n",
    "    text = page.extract_text()\n",
    "    if text:\n",
    "        linkedin += text"
   ]
  },
  {
   "cell_type": "markdown",
   "id": "04189fb8-95e8-4d2b-aed6-56df4a0e76b3",
   "metadata": {},
   "source": [
    "#### Tokens and Push Notification function"
   ]
  },
  {
   "cell_type": "code",
   "execution_count": 7,
   "id": "3d71c64f-2c25-4004-acf9-f896204db0fa",
   "metadata": {},
   "outputs": [],
   "source": [
    "# Setup APIs\n",
    "google_api_key = os.getenv('GOOGLE_API_KEY')\n",
    "google_gai_url=\"https://generativelanguage.googleapis.com/v1beta/openai/\"\n",
    "\n",
    "pushover_user = os.getenv(\"PUSHOVER_USER\")\n",
    "pushover_token = os.getenv(\"PUSHOVER_TOKEN\")\n",
    "pushover_url = \"https://api.pushover.net/1/messages.json\""
   ]
  },
  {
   "cell_type": "code",
   "execution_count": 9,
   "id": "29904dd9-72ef-4d0c-b195-d19432c1a5cd",
   "metadata": {},
   "outputs": [],
   "source": [
    "def push(message):\n",
    "    \"\"\"\n",
    "    Sends a push notification using the Pushover API.\n",
    "\n",
    "    This function constructs a payload with a given message, a user key,\n",
    "    and an application token, then sends it as a POST request to the\n",
    "    Pushover API endpoint. It prints a success message if the notification\n",
    "    is sent successfully (HTTP status code 200), otherwise it prints\n",
    "    an error message including the status code and response text.\n",
    "\n",
    "    Args:\n",
    "        message (str): The content of the notification message to be sent.\n",
    "\n",
    "    Returns:\n",
    "        None\n",
    "    \"\"\"\n",
    "    print(f\"Push: {message}\")\n",
    "    payload = {\"user\": pushover_user, \"token\": pushover_token, \"message\": message}\n",
    "    \n",
    "    response = requests.post(pushover_url, data=payload)\n",
    "    \n",
    "    if response.status_code == 200:\n",
    "        print(\"✅ Notification sent successfully.\")\n",
    "    else:\n",
    "        print(f\"❌ Failed to send notification: {response.status_code} - {response.text}\")"
   ]
  },
  {
   "cell_type": "markdown",
   "id": "add52abb-82e4-4ea1-8620-b34fc4391967",
   "metadata": {},
   "source": [
    "#### Agent and Setup"
   ]
  },
  {
   "cell_type": "code",
   "execution_count": null,
   "id": "c2e8a66b-dd11-40b1-bdf5-083fc71c22bb",
   "metadata": {},
   "outputs": [],
   "source": []
  }
 ],
 "metadata": {
  "kernelspec": {
   "display_name": "Python (myenv)",
   "language": "python",
   "name": "myenv"
  },
  "language_info": {
   "codemirror_mode": {
    "name": "ipython",
    "version": 3
   },
   "file_extension": ".py",
   "mimetype": "text/x-python",
   "name": "python",
   "nbconvert_exporter": "python",
   "pygments_lexer": "ipython3",
   "version": "3.12.4"
  }
 },
 "nbformat": 4,
 "nbformat_minor": 5
}
